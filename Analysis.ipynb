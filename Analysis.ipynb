{
 "cells": [
  {
   "cell_type": "code",
   "execution_count": 1,
   "metadata": {},
   "outputs": [],
   "source": [
    "import numpy as np\n",
    "\n",
    "import seaborn as sns\n",
    "\n",
    "import matplotlib.pyplot as plt"
   ]
  },
  {
   "cell_type": "code",
   "execution_count": 4,
   "metadata": {},
   "outputs": [
    {
     "data": {
      "text/plain": [
       "(10, 10, 2, 2)"
      ]
     },
     "execution_count": 4,
     "metadata": {},
     "output_type": "execute_result"
    }
   ],
   "source": [
    "data = np.load('Simulations/Epsilon0.1Alpha0.000333333333333Iterations10000000.npy')\n",
    "\n",
    "data.shape"
   ]
  },
  {
   "cell_type": "code",
   "execution_count": null,
   "metadata": {},
   "outputs": [],
   "source": [
    "Soft_Stand = data[:, :, 1, 1] \n",
    "Hard_Stand = data[:, :, 1, 1] \n",
    "Soft_Hit = data[:, :, 1, 1] \n",
    "Hard_Hit = data[:, :, 1, 1] "
   ]
  },
  {
   "cell_type": "code",
   "execution_count": null,
   "metadata": {},
   "outputs": [],
   "source": [
    "def view_state_action_values(data):\n",
    "\n",
    "    Soft_Stand = data[:, :, 1, 1] \n",
    "    Hard_Stand = data[:, :, 1, 1] \n",
    "    Soft_Hit = data[:, :, 1, 1] \n",
    "    Hard_Hit = data[:, :, 1, 1] \n",
    "\n",
    "\n",
    "    # Reorder the matrix for the dealer values (2-10, then Ace)\n",
    "    # You might need to adjust this depending on how your data is structured\n",
    "    reordered_matrix = np.vstack([matrix[1:], matrix[0]])\n",
    "\n",
    "    plt.figure(figsize=(10, 8))\n",
    "    sns.heatmap(reordered_matrix, annot=True, cmap='viridis')\n",
    "    plt.title('Your Title Here')\n",
    "    plt.xlabel('Player Hand Value (12-21)')\n",
    "    plt.ylabel('Dealer Hand Value (2-10, Ace)')\n",
    "    plt.show()\n",
    "\n",
    "    return\n"
   ]
  }
 ],
 "metadata": {
  "kernelspec": {
   "display_name": "Python 3",
   "language": "python",
   "name": "python3"
  },
  "language_info": {
   "codemirror_mode": {
    "name": "ipython",
    "version": 3
   },
   "file_extension": ".py",
   "mimetype": "text/x-python",
   "name": "python",
   "nbconvert_exporter": "python",
   "pygments_lexer": "ipython3",
   "version": "3.7.6"
  }
 },
 "nbformat": 4,
 "nbformat_minor": 2
}
